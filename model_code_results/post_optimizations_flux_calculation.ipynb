{
 "cells": [
  {
   "attachments": {},
   "cell_type": "markdown",
   "metadata": {},
   "source": [
    "# Notebook used to obtain the respective curcumin and biomass fluxes of the solutions from the optimization results.\n"
   ]
  },
  {
   "cell_type": "code",
   "execution_count": 8,
   "metadata": {},
   "outputs": [],
   "source": [
    "import mewpy\n",
    "from mewpy.simulation import get_simulator\n",
    "from cobra.io import read_sbml_model\n",
    "import mewpy.simulation\n",
    "import mewpy.optimization\n",
    "from mewpy.problems import GOUProblem\n",
    "import pandas as pd"
   ]
  },
  {
   "cell_type": "code",
   "execution_count": 2,
   "metadata": {},
   "outputs": [],
   "source": [
    "model = read_sbml_model(\"yeast-7-GEM_curcumin.xml\")"
   ]
  },
  {
   "cell_type": "code",
   "execution_count": 3,
   "metadata": {},
   "outputs": [],
   "source": [
    "model = read_sbml_model(\"yeast-7-GEM_curcumin.xml\")\n",
    "biomass_id='r_4041'\n",
    "product_id='EX_curcumin'\n",
    "GLC = 'r_1714'\n",
    "O2 = 'r_1992'\n",
    "env_conds = {GLC: (-10.0, 999999.0)}"
   ]
  },
  {
   "attachments": {},
   "cell_type": "markdown",
   "metadata": {},
   "source": [
    "    env_conds = [  {GLC: (-10.0, 999999.0)},\n",
    "                  # {GLC: (-10.0, 999999.0), O2: (-1, 100000.0)},\n",
    "                  # {GLY: (-20.0, 999999.0), GLC: (-10.0, 999999.0), O2: (-1, 100000.0)},\n",
    "                  # {GLC: (-10.0, 999999.0), GLY: (-20.0, 999999.0), PHO: (-1.0, 999999.0)},\n",
    "                  # {GLC: (-10.0, 999999.0), PHO: (-1.0, 999999.0)},\n",
    "                  # {XYL: (-12.0, 999999.0)},\n",
    "                  # {XYL: (-12.0, 999999.0), O2: (-1, 100000.0)},\n",
    "                  # {GLY: (-20.0, 999999.0), O2: (-1, 100000.0)},\n",
    "                  # {GLY: (-20.0, 999999.0)}\n",
    "                  ]"
   ]
  },
  {
   "attachments": {},
   "cell_type": "markdown",
   "metadata": {},
   "source": [
    "Define the function that allows simulations of the obtained solutions and obtain the curcumin and biomass fluxes."
   ]
  },
  {
   "cell_type": "code",
   "execution_count": 5,
   "metadata": {},
   "outputs": [],
   "source": [
    "def simul (solution):\n",
    "    \"\"\"Function that allows you to simulate the solutions.\n",
    "\n",
    "    Args:\n",
    "        solution (dict): Gene Modifications \n",
    "\n",
    "    Returns:\n",
    "        float: Curcumin and biomass fluxes\n",
    "    \"\"\"\n",
    "    problem = GOUProblem(model=model, env = env_conds)\n",
    "    constraints = problem.solution_to_constraints(solution)\n",
    "    print(constraints)\n",
    "    simul = get_simulator(model, env_conds)\n",
    "    simul.objective = biomass_id\n",
    "    resul = simul.simulate(method=\"pFBA\",constraints=constraints)\n",
    "    curcumin = resul.fluxes[product_id]\n",
    "    biomass = resul.fluxes[biomass_id]\n",
    "    return curcumin, biomass\n",
    "    "
   ]
  },
  {
   "attachments": {},
   "cell_type": "markdown",
   "metadata": {},
   "source": [
    "## Example"
   ]
  },
  {
   "cell_type": "code",
   "execution_count": 4,
   "metadata": {},
   "outputs": [],
   "source": [
    "solution = {'YPR060C': 8, 'YBR249C': 8, 'YDR127W': 8, 'YGL148W': 8, 'YDR035W': 8, 'YBR166C': 8, 'YLR134W': 0, 'YDR380W': 0, 'YNR019W': 0, 'YLR081W': 0, 'YJR009C': 0, 'YGL125W': 32, 'YER060W-A': 0, 'YER023W': 0.5, 'YKL141W': 0}"
   ]
  },
  {
   "cell_type": "code",
   "execution_count": 6,
   "metadata": {},
   "outputs": [
    {
     "name": "stdout",
     "output_type": "stream",
     "text": [
      "{'r_0020': (0.20022092809883155, 10000), 'r_0039': (0.20022092809883155, 10000), 'r_0040': (0.20022092809883155, 10000), 'r_0065': (0.20022092809883155, 10000), 'r_0080': (0.21334778486045303, 10000), 'r_0278': (0.17870645833717125, 10000), 'r_0279': (0.20022092809883155, 10000), 'r_0854': (0, 0), 'r_0939': (0.07727027872145598, 10000), 'r_0957': (0, 0.007798048348911644), 'r_0996': (0.20022092809883155, 10000), 'r_0997': (0.20022092809883155, 10000), 'r_1021': (0, 0)}\n"
     ]
    },
    {
     "data": {
      "text/plain": [
       "(0.09385356004632728, 0.04734698451069607)"
      ]
     },
     "execution_count": 6,
     "metadata": {},
     "output_type": "execute_result"
    }
   ],
   "source": [
    "simul(solution)"
   ]
  },
  {
   "attachments": {},
   "cell_type": "markdown",
   "metadata": {},
   "source": [
    "# Add the calculated fluxes to the respective solution present in the .csv file from the optimizations.\n",
    "\n"
   ]
  },
  {
   "cell_type": "code",
   "execution_count": 14,
   "metadata": {},
   "outputs": [
    {
     "data": {
      "text/html": [
       "<div>\n",
       "<style scoped>\n",
       "    .dataframe tbody tr th:only-of-type {\n",
       "        vertical-align: middle;\n",
       "    }\n",
       "\n",
       "    .dataframe tbody tr th {\n",
       "        vertical-align: top;\n",
       "    }\n",
       "\n",
       "    .dataframe thead th {\n",
       "        text-align: right;\n",
       "    }\n",
       "</style>\n",
       "<table border=\"1\" class=\"dataframe\">\n",
       "  <thead>\n",
       "    <tr style=\"text-align: right;\">\n",
       "      <th></th>\n",
       "      <th>Modification</th>\n",
       "      <th>Size</th>\n",
       "      <th>BPCY</th>\n",
       "      <th>WYIELD</th>\n",
       "      <th>ModificationType</th>\n",
       "    </tr>\n",
       "  </thead>\n",
       "  <tbody>\n",
       "    <tr>\n",
       "      <th>0</th>\n",
       "      <td>{'YPR060C': 8, 'YBR249C': 8, 'YDR127W': 8, 'YG...</td>\n",
       "      <td>16</td>\n",
       "      <td>-0.000000</td>\n",
       "      <td>0.021646</td>\n",
       "      <td>3.1250</td>\n",
       "    </tr>\n",
       "    <tr>\n",
       "      <th>1</th>\n",
       "      <td>{'YPR060C': 8, 'YBR249C': 8, 'YDR127W': 8, 'YG...</td>\n",
       "      <td>16</td>\n",
       "      <td>-0.000000</td>\n",
       "      <td>0.538668</td>\n",
       "      <td>2.9375</td>\n",
       "    </tr>\n",
       "    <tr>\n",
       "      <th>6</th>\n",
       "      <td>{'YPR060C': 8, 'YBR249C': 8, 'YDR127W': 8, 'YG...</td>\n",
       "      <td>16</td>\n",
       "      <td>0.009456</td>\n",
       "      <td>0.980542</td>\n",
       "      <td>2.0000</td>\n",
       "    </tr>\n",
       "    <tr>\n",
       "      <th>62</th>\n",
       "      <td>{'YPR060C': 8, 'YBR249C': 8, 'YDR127W': 8, 'YG...</td>\n",
       "      <td>16</td>\n",
       "      <td>0.009461</td>\n",
       "      <td>0.980530</td>\n",
       "      <td>1.9375</td>\n",
       "    </tr>\n",
       "    <tr>\n",
       "      <th>3</th>\n",
       "      <td>{'YPR060C': 8, 'YBR249C': 8, 'YDR127W': 8, 'YG...</td>\n",
       "      <td>16</td>\n",
       "      <td>0.009541</td>\n",
       "      <td>0.983197</td>\n",
       "      <td>0.7500</td>\n",
       "    </tr>\n",
       "    <tr>\n",
       "      <th>...</th>\n",
       "      <td>...</td>\n",
       "      <td>...</td>\n",
       "      <td>...</td>\n",
       "      <td>...</td>\n",
       "      <td>...</td>\n",
       "    </tr>\n",
       "    <tr>\n",
       "      <th>44</th>\n",
       "      <td>{'YPR060C': 8, 'YBR249C': 8, 'YDR127W': 8, 'YG...</td>\n",
       "      <td>16</td>\n",
       "      <td>0.046005</td>\n",
       "      <td>0.296149</td>\n",
       "      <td>2.0000</td>\n",
       "    </tr>\n",
       "    <tr>\n",
       "      <th>33</th>\n",
       "      <td>{'YPR060C': 8, 'YBR249C': 8, 'YDR127W': 8, 'YG...</td>\n",
       "      <td>16</td>\n",
       "      <td>0.046005</td>\n",
       "      <td>0.296149</td>\n",
       "      <td>2.1250</td>\n",
       "    </tr>\n",
       "    <tr>\n",
       "      <th>28</th>\n",
       "      <td>{'YPR060C': 8, 'YBR249C': 8, 'YDR127W': 8, 'YG...</td>\n",
       "      <td>16</td>\n",
       "      <td>0.046005</td>\n",
       "      <td>0.293144</td>\n",
       "      <td>2.6250</td>\n",
       "    </tr>\n",
       "    <tr>\n",
       "      <th>29</th>\n",
       "      <td>{'YPR060C': 8, 'YBR249C': 8, 'YDR127W': 8, 'YG...</td>\n",
       "      <td>16</td>\n",
       "      <td>0.046005</td>\n",
       "      <td>0.296149</td>\n",
       "      <td>2.3125</td>\n",
       "    </tr>\n",
       "    <tr>\n",
       "      <th>2</th>\n",
       "      <td>{'YPR060C': 8, 'YBR249C': 8, 'YDR127W': 8, 'YG...</td>\n",
       "      <td>16</td>\n",
       "      <td>0.046005</td>\n",
       "      <td>0.292717</td>\n",
       "      <td>2.4375</td>\n",
       "    </tr>\n",
       "  </tbody>\n",
       "</table>\n",
       "<p>98 rows × 5 columns</p>\n",
       "</div>"
      ],
      "text/plain": [
       "                                         Modification  Size      BPCY  \\\n",
       "0   {'YPR060C': 8, 'YBR249C': 8, 'YDR127W': 8, 'YG...    16 -0.000000   \n",
       "1   {'YPR060C': 8, 'YBR249C': 8, 'YDR127W': 8, 'YG...    16 -0.000000   \n",
       "6   {'YPR060C': 8, 'YBR249C': 8, 'YDR127W': 8, 'YG...    16  0.009456   \n",
       "62  {'YPR060C': 8, 'YBR249C': 8, 'YDR127W': 8, 'YG...    16  0.009461   \n",
       "3   {'YPR060C': 8, 'YBR249C': 8, 'YDR127W': 8, 'YG...    16  0.009541   \n",
       "..                                                ...   ...       ...   \n",
       "44  {'YPR060C': 8, 'YBR249C': 8, 'YDR127W': 8, 'YG...    16  0.046005   \n",
       "33  {'YPR060C': 8, 'YBR249C': 8, 'YDR127W': 8, 'YG...    16  0.046005   \n",
       "28  {'YPR060C': 8, 'YBR249C': 8, 'YDR127W': 8, 'YG...    16  0.046005   \n",
       "29  {'YPR060C': 8, 'YBR249C': 8, 'YDR127W': 8, 'YG...    16  0.046005   \n",
       "2   {'YPR060C': 8, 'YBR249C': 8, 'YDR127W': 8, 'YG...    16  0.046005   \n",
       "\n",
       "      WYIELD  ModificationType  \n",
       "0   0.021646            3.1250  \n",
       "1   0.538668            2.9375  \n",
       "6   0.980542            2.0000  \n",
       "62  0.980530            1.9375  \n",
       "3   0.983197            0.7500  \n",
       "..       ...               ...  \n",
       "44  0.296149            2.0000  \n",
       "33  0.296149            2.1250  \n",
       "28  0.293144            2.6250  \n",
       "29  0.296149            2.3125  \n",
       "2   0.292717            2.4375  \n",
       "\n",
       "[98 rows x 5 columns]"
      ]
     },
     "execution_count": 14,
     "metadata": {},
     "output_type": "execute_result"
    }
   ],
   "source": [
    "df = pd.read_csv(\"results_05-04-2023__09_23_07_07-04-2023__02_38_42r_1714_(-10.0, 999999.0).csv\", index_col= 0)\n",
    "df"
   ]
  },
  {
   "cell_type": "code",
   "execution_count": null,
   "metadata": {},
   "outputs": [],
   "source": [
    "modification  = df.Modification\n",
    "\n",
    "curcumin_list = []\n",
    "biomassa_list = []\n",
    "for c in modification:\n",
    "    print(c)\n",
    "    cur, bio = simul(eval(c))\n",
    "    curcumin_list.append(cur)\n",
    "    biomassa_list.append(bio)\n"
   ]
  },
  {
   "cell_type": "code",
   "execution_count": null,
   "metadata": {},
   "outputs": [],
   "source": [
    "curcumin_list"
   ]
  },
  {
   "cell_type": "code",
   "execution_count": null,
   "metadata": {},
   "outputs": [],
   "source": [
    "biomassa_list"
   ]
  },
  {
   "cell_type": "code",
   "execution_count": null,
   "metadata": {},
   "outputs": [],
   "source": [
    "df[\"Curcumina\"] = curcumin_list\n",
    "df[\"Biomassa\"] = biomassa_list"
   ]
  },
  {
   "cell_type": "code",
   "execution_count": null,
   "metadata": {},
   "outputs": [],
   "source": [
    "df.to_csv('results_05-04-2023__09_23_07_07-04-2023__02_38_42r_1714_(-10.0, 999999.0)_analisados.csv')"
   ]
  }
 ],
 "metadata": {
  "kernelspec": {
   "display_name": "mestrado_final",
   "language": "python",
   "name": "python3"
  },
  "language_info": {
   "codemirror_mode": {
    "name": "ipython",
    "version": 3
   },
   "file_extension": ".py",
   "mimetype": "text/x-python",
   "name": "python",
   "nbconvert_exporter": "python",
   "pygments_lexer": "ipython3",
   "version": "3.9.16"
  },
  "orig_nbformat": 4
 },
 "nbformat": 4,
 "nbformat_minor": 2
}
