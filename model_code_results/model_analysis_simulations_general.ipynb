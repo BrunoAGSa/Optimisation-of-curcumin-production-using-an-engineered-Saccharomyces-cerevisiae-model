{
 "cells": [
  {
   "attachments": {},
   "cell_type": "markdown",
   "metadata": {},
   "source": [
    "## Import packages"
   ]
  },
  {
   "cell_type": "code",
   "execution_count": 2,
   "metadata": {},
   "outputs": [],
   "source": [
    "from cobra.io.sbml import read_sbml_model\n",
    "from mewpy.simulation import get_simulator\n",
    "from mewpy.problems import GOUProblem"
   ]
  },
  {
   "attachments": {},
   "cell_type": "markdown",
   "metadata": {},
   "source": [
    "### Read model"
   ]
  },
  {
   "cell_type": "code",
   "execution_count": 3,
   "metadata": {},
   "outputs": [],
   "source": [
    "model = read_sbml_model(\"yeast-7-GEM_curcumin.xml\")"
   ]
  },
  {
   "attachments": {},
   "cell_type": "markdown",
   "metadata": {},
   "source": [
    "### Analyze the different genes, reactions and metabolites in our model."
   ]
  },
  {
   "cell_type": "code",
   "execution_count": 3,
   "metadata": {},
   "outputs": [
    {
     "data": {
      "text/html": [
       "\n",
       "        <table>\n",
       "            <tr>\n",
       "                <td><strong>Gene identifier</strong></td><td>curs</td>\n",
       "            </tr><tr>\n",
       "                <td><strong>Name</strong></td><td></td>\n",
       "            </tr><tr>\n",
       "                <td><strong>Memory address</strong></td>\n",
       "                <td>0x7f213664f2b0</td>\n",
       "            </tr><tr>\n",
       "                <td><strong>Functional</strong></td><td>True</td>\n",
       "            </tr><tr>\n",
       "                <td><strong>In 1 reaction(s)</strong></td><td>\n",
       "                    curs\n",
       "                    </td>\n",
       "            </tr>\n",
       "        </table>"
      ],
      "text/plain": [
       "<Gene curs at 0x7f213664f2b0>"
      ]
     },
     "execution_count": 3,
     "metadata": {},
     "output_type": "execute_result"
    }
   ],
   "source": [
    "model.genes.curs"
   ]
  },
  {
   "cell_type": "code",
   "execution_count": 4,
   "metadata": {},
   "outputs": [
    {
     "data": {
      "text/html": [
       "\n",
       "        <table>\n",
       "            <tr>\n",
       "                <td><strong>Reaction identifier</strong></td><td>curs</td>\n",
       "            </tr><tr>\n",
       "                <td><strong>Name</strong></td><td>Curcumin synthase</td>\n",
       "            </tr><tr>\n",
       "                <td><strong>Memory address</strong></td>\n",
       "                <td>0x7f2136545220</td>\n",
       "            </tr><tr>\n",
       "                <td><strong>Stoichiometry</strong></td>\n",
       "                <td>\n",
       "                    <p style='text-align:right'>s_0803 + s_feruloylCoA + s_feruloyl_diketideCoA --> s_0456 + 2.0 s_0529 + s_curcumin</p>\n",
       "                    <p style='text-align:right'>H2O [cytoplasm] + feruloylCoA + feruloyl diketideCoA --> carbon dioxide [cytoplasm] + 2.0 coenzyme A [cytoplasm] + curcumin</p>\n",
       "                </td>\n",
       "            </tr><tr>\n",
       "                <td><strong>GPR</strong></td><td>curs</td>\n",
       "            </tr><tr>\n",
       "                <td><strong>Lower bound</strong></td><td>0.0</td>\n",
       "            </tr><tr>\n",
       "                <td><strong>Upper bound</strong></td><td>1000.0</td>\n",
       "            </tr>\n",
       "        </table>\n",
       "        "
      ],
      "text/plain": [
       "<Reaction curs at 0x7f2136545220>"
      ]
     },
     "execution_count": 4,
     "metadata": {},
     "output_type": "execute_result"
    }
   ],
   "source": [
    "model.reactions.curs"
   ]
  },
  {
   "cell_type": "code",
   "execution_count": 5,
   "metadata": {},
   "outputs": [
    {
     "data": {
      "text/html": [
       "\n",
       "        <table>\n",
       "            <tr>\n",
       "                <td><strong>Metabolite identifier</strong></td><td>s_curcumin</td>\n",
       "            </tr><tr>\n",
       "                <td><strong>Name</strong></td><td>curcumin</td>\n",
       "            </tr><tr>\n",
       "                <td><strong>Memory address</strong></td>\n",
       "                <td>0x7f21368ade20</td>\n",
       "            </tr><tr>\n",
       "                <td><strong>Formula</strong></td><td>C21H20O6</td>\n",
       "            </tr><tr>\n",
       "                <td><strong>Compartment</strong></td><td>c</td>\n",
       "            </tr><tr>\n",
       "                <td><strong>In 2 reaction(s)</strong></td><td>\n",
       "                    curs, EX_curcumin\n",
       "                    </td>\n",
       "            </tr>\n",
       "        </table>"
      ],
      "text/plain": [
       "<Metabolite s_curcumin at 0x7f21368ade20>"
      ]
     },
     "execution_count": 5,
     "metadata": {},
     "output_type": "execute_result"
    }
   ],
   "source": [
    "model.metabolites.s_curcumin"
   ]
  },
  {
   "attachments": {},
   "cell_type": "markdown",
   "metadata": {},
   "source": [
    "### Set the different variables\n"
   ]
  },
  {
   "cell_type": "code",
   "execution_count": 4,
   "metadata": {},
   "outputs": [],
   "source": [
    "PRODUCT_ID = 'EX_curcumin'\n",
    "BIOMASS_ID = 'r_4041'\n",
    "GLC = 'r_1714'\n",
    "XYL = 'r_1718'\n",
    "GLY = 'r_1808'\n",
    "O2 = 'r_1992'\n",
    "AMO = 'r_1654'\n",
    "PHO = 'r_2005'\n",
    "\n",
    "env_conds = [   {GLC: (-10.0, 999999.0)},\n",
    "                {GLC: (-10.0, 999999.0), O2: (-1, 100000.0)},\n",
    "                {GLY: (-20.0, 999999.0), GLC: (-10.0, 999999.0), O2: (-1, 100000.0)},\n",
    "                {GLC: (-10.0, 999999.0), GLY: (-20.0, 999999.0), PHO: (-1.0, 999999.0)},\n",
    "                {GLC: (-10.0, 999999.0), PHO: (-1.0, 999999.0)},\n",
    "                {XYL: (-12.0, 999999.0)},\n",
    "                {XYL: (-12.0, 999999.0), O2: (-1, 100000.0)},\n",
    "                {GLY: (-20.0, 999999.0), O2: (-1, 100000.0)},\n",
    "                {GLY: (-20.0, 999999.0)}\n",
    "                ]"
   ]
  },
  {
   "attachments": {},
   "cell_type": "markdown",
   "metadata": {},
   "source": [
    "### Solution we want to evaluate with the different associated expression levels. \n"
   ]
  },
  {
   "cell_type": "code",
   "execution_count": 5,
   "metadata": {},
   "outputs": [],
   "source": [
    "solution = {'YPR060C': 8, 'YBR249C': 8, 'YDR127W': 8, 'YGL148W': 8, 'YDR035W': 8, 'YBR166C': 8, 'YLR134W': 0, 'YDR380W': 0}#, 'YNR019W': 0, 'YLR081W': 0, 'YJR009C': 0, 'YGL125W': 32, 'YOR025W': 0, 'YKL085W': 0.0625, 'YBR265W': 0.5, 'YKL141W': 0}"
   ]
  },
  {
   "cell_type": "code",
   "execution_count": 6,
   "metadata": {},
   "outputs": [],
   "source": [
    "def simul (solution, obj):\n",
    "    \"\"\"Function that allows you to simulate a solution using a pFBA\n",
    "\n",
    "    Args:\n",
    "        solution (dict): Gene Modifications \n",
    "        obj (str or dict): Objective Function\n",
    "\n",
    "    Returns:\n",
    "        float: Curcumin and biomass fluxes\n",
    "    \"\"\"\n",
    "    problem = GOUProblem(model=model, env = env_conds[0])\n",
    "    constraints = problem.solution_to_constraints(solution)\n",
    "    simul = get_simulator(model, env_conds[0])\n",
    "    simul.objective = obj\n",
    "    resul = simul.simulate(method=\"pFBA\",constraints=constraints)\n",
    "    curcumin_antes = resul.fluxes[\"EX_curcumin\"]\n",
    "    biomass_antes = resul.fluxes[\"r_4041\"]\n",
    "    return curcumin_antes, biomass_antes\n",
    "\n",
    "def simul_with_fix_lowerbound_biomass (solution, obj, biomass_value):\n",
    "    \"\"\"Function that allows you to simulate a solution using a pFBA changing the biomass lower bound\n",
    "\n",
    "\n",
    "    Args:\n",
    "        solution (dict): Gene Modifications \n",
    "        obj (str or dict): Objective Function\n",
    "        biomass_value (float): Biomass fluxes\n",
    "\n",
    "    Returns:\n",
    "        _type_: _description_\n",
    "    \"\"\"\n",
    "    problem = GOUProblem(model=model, env = env_conds[0])\n",
    "    constraints = problem.solution_to_constraints(solution)\n",
    "    model.reactions.r_4041.lower_bound = biomass_value\n",
    "    simul = get_simulator(model, env_conds[0])\n",
    "    simul.objective = obj\n",
    "    resul = simul.simulate(method=\"pFBA\",constraints=constraints)\n",
    "    curcumin_dps = resul.fluxes[\"EX_curcumin\"]\n",
    "    biomass_dps = resul.fluxes[\"r_4041\"]\n",
    "    return curcumin_dps, biomass_dps"
   ]
  },
  {
   "cell_type": "code",
   "execution_count": null,
   "metadata": {},
   "outputs": [],
   "source": [
    "b = simul(solution, BIOMASS_ID)\n",
    "b"
   ]
  },
  {
   "cell_type": "code",
   "execution_count": null,
   "metadata": {},
   "outputs": [],
   "source": [
    "simul_with_fix_lowerbound_biomass(solution, PRODUCT_ID, b[1])"
   ]
  },
  {
   "attachments": {},
   "cell_type": "markdown",
   "metadata": {},
   "source": [
    "### Small piece of code that allows you to analyze different levels of gene expression\n"
   ]
  },
  {
   "cell_type": "code",
   "execution_count": null,
   "metadata": {},
   "outputs": [],
   "source": [
    "exp_list = [8, 10, 12, 16, 24, 32]\n",
    "result = []\n",
    "model.reactions.r_4041.lower_bound = 0.496\n",
    "\n",
    "for c in exp_list:\n",
    "    solution = {'YPR060C': c, 'YBR249C': c, 'YDR127W': c, 'YGL148W': c, 'YDR035W': c, 'YBR166C': c, 'YLR134W': 0, 'YDR380W': 0}\n",
    "    a = simul(solution, {PRODUCT_ID:0})\n",
    "    b = simul(solution, {PRODUCT_ID:1})\n",
    "    print(c, (a,b))"
   ]
  },
  {
   "attachments": {},
   "cell_type": "markdown",
   "metadata": {},
   "source": [
    "### \"FVA\" Simulator"
   ]
  },
  {
   "cell_type": "code",
   "execution_count": 7,
   "metadata": {},
   "outputs": [
    {
     "name": "stdout",
     "output_type": "stream",
     "text": [
      "{'YPR060C': 8, 'YBR249C': 8, 'YDR127W': 8, 'YGL148W': 8, 'YDR035W': 8, 'YBR166C': 8, 'YLR134W': 0, 'YDR380W': 0}\n",
      "{'r_0020': (0.20022092809883155, 10000), 'r_0039': (0.20022092809883155, 10000), 'r_0040': (0.20022092809883155, 10000), 'r_0065': (0.20022092809883155, 10000), 'r_0278': (0.17870645833717125, 10000), 'r_0279': (0.20022092809883155, 10000), 'r_0854': (0, 0), 'r_0939': (0.07727027872145598, 10000), 'r_0996': (0.20022092809883155, 10000), 'r_0997': (0.20022092809883155, 10000)}\n"
     ]
    }
   ],
   "source": [
    "print(solution)\n",
    "env = env_conds[0]\n",
    "problem = GOUProblem(model=model, env = env)\n",
    "constraints = problem.solution_to_constraints(solution)\n",
    "print(constraints)\n",
    "reaction_sd = model.reactions.r_4041\n",
    "reaction_sd.lower_bound = 0.496\n",
    "simul = get_simulator(model,envcond= env)\n",
    "simul.objective = {PRODUCT_ID:1}   # FVA Upper\n",
    "# simul.objective = {PRODUCT_ID:0}   # FVA Lower\n",
    "a = simul.simulate(method=\"pFBA\", constraints=constraints)"
   ]
  },
  {
   "attachments": {},
   "cell_type": "markdown",
   "metadata": {},
   "source": [
    "### Small section where we can get the main fluxes obtained in each solution"
   ]
  },
  {
   "cell_type": "code",
   "execution_count": 41,
   "metadata": {},
   "outputs": [
    {
     "name": "stdout",
     "output_type": "stream",
     "text": [
      "{'YPR060C': 8, 'YBR249C': 8, 'YDR127W': 8, 'YGL148W': 8, 'YDR035W': 8, 'YBR166C': 8, 'YLR134W': 0, 'YDR380W': 0}\n",
      "Objective --> Biomass {'EX_curcumin': 1.0} || Enviroment -->  {'r_1714': (-10.0, 999999.0)}\n",
      "Biomass --> 0.496  ||  Curcumin --> 0.9761550840438842\n",
      "--------------------Fluxes---------------------------\n",
      "-0.2939792 | phenylalanine transaminase\n",
      "0.0 | PAL\n",
      "1.9523101680877684 | r_TAL\n",
      "1.9523101680877684 | hpaBC\n",
      "1.9523101680877684 | comt\n",
      "1.9523101680877684 | ferA\n",
      "0.9761550840438842 | curs\n",
      "-------------------------------Reactions---------------------\n",
      "             Value\n",
      "Reaction          \n",
      "PAL      -0.000000\n",
      "r_0851    0.293979\n",
      "r_0852   -0.066414\n",
      "r_2117   -0.227565\n",
      "r_2118    0.000000\n",
      "r_1215    0.000000\n",
      "r_2004   -0.000000\n",
      "r_2110   -0.000000      L-phenylalanine cytoplasm\n",
      "             Value\n",
      "Reaction          \n",
      "r_TAL    -1.952310\n",
      "r_0695   -0.000000\n",
      "r_1063    2.002902\n",
      "r_1066   -0.050592\n",
      "r_2119    0.000000\n",
      "r_1220    0.000000\n",
      "r_1221   -0.000000\n",
      "r_1222    0.000000\n",
      "r_1223    0.000000\n",
      "r_2086   -0.000000\n",
      "r_2087   -0.000000\n",
      "r_2110   -0.000000      L-tyrosine  cytoplasm\n",
      "          Value\n",
      "Reaction       \n",
      "C4H        -0.0\n",
      "PAL         0.0      s_cinnamic\n",
      "            Value\n",
      "Reaction         \n",
      "hpaBC    -1.95231\n",
      "C4H       0.00000\n",
      "r_TAL     1.95231      s_coumaric\n",
      "            Value\n",
      "Reaction         \n",
      "comt     -1.95231\n",
      "hpaBC     1.95231      s_caffeic\n",
      "            Value\n",
      "Reaction         \n",
      "ferA     -1.95231\n",
      "comt      1.95231      s_ferulic\n",
      "             Value\n",
      "Reaction          \n",
      "curs     -0.976155\n",
      "dcs      -0.976155\n",
      "ferA      1.952310      s_feruloylCoA\n",
      "             Value\n",
      "Reaction          \n",
      "curs     -0.976155\n",
      "dcs       0.976155      s_feruloyl_diketideCoA\n",
      "                Value\n",
      "Reaction             \n",
      "EX_curcumin -0.976155\n",
      "curs         0.976155      s_curcumin\n",
      "             Value\n",
      "Reaction          \n",
      "r_0851   -0.293979\n",
      "r_0854   -0.000000\n",
      "r_0938    0.066414\n",
      "r_2117    0.227565\n",
      "r_2118   -0.000000\n",
      "             Value\n",
      "Reaction          \n",
      "r_0278    2.069317\n",
      "r_0938   -0.066414\n",
      "r_0939   -2.002902 PPA\n",
      "             Value\n",
      "Reaction          \n",
      "r_0040   -2.083403\n",
      "r_0042    0.000000\n",
      "r_1567    2.083403 DAHP\n",
      "             Value\n",
      "Reaction          \n",
      "r_0018    0.141955\n",
      "r_0026    0.000000\n",
      "r_0068   -0.000000\n",
      "r_0216    0.654814\n",
      "r_0470    0.000000\n",
      "r_0471   -8.910306\n",
      "r_0472   -0.000000\n",
      "r_0538    0.032885\n",
      "r_0659   -0.029905\n",
      "r_0663   -1.695188\n",
      "r_0681   -0.000000\n",
      "r_0699    0.147014\n",
      "r_0819   -0.081691\n",
      "r_0851    0.293979\n",
      "r_0918    4.824903\n",
      "r_0988    0.141955\n",
      "r_1029   -0.000000\n",
      "r_1056   -0.000000\n",
      "r_1063    2.002902\n",
      "r_1087   -0.000000\n",
      "r_1099   -0.141955\n",
      "r_1112    2.113308\n",
      "r_2132    0.505329\n",
      "r_1587   -0.000000\n",
      "r_1588    0.000000\n",
      "r_1647   -0.000000\n",
      "r_1652   -0.000000 ARO8\n"
     ]
    }
   ],
   "source": [
    "print(solution)\n",
    "print(\"Objective --> Biomass\",simul.objective, end=\" || \") \n",
    "print(\"Enviroment --> \",simul.environmental_conditions)\n",
    "print(\"Biomass -->\", a.fluxes[\"r_4041\"] , end=\"  ||  \")\n",
    "print(\"Curcumin -->\",a.fluxes[\"EX_curcumin\"])\n",
    "print(\"--------------------Fluxes---------------------------\")\n",
    "print(a.fluxes[\"r_0851\"], \"| phenylalanine transaminase\")\n",
    "print(a.fluxes[\"PAL\"], \"| PAL\")\n",
    "print(a.fluxes[\"r_TAL\"], \"| r_TAL\")\n",
    "print(a.fluxes[\"hpaBC\"], \"| hpaBC\")\n",
    "print(a.fluxes[\"comt\"], \"| comt\")\n",
    "print(a.fluxes[\"ferA\"], \"| ferA\")\n",
    "print(a.fluxes[\"curs\"], \"| curs\")\n",
    "print(\"-------------------------------Reactions---------------------\")\n",
    "print(a.get_metabolite(\"s_1032\"), \"     L-phenylalanine cytoplasm\") \n",
    "print(a.get_metabolite(\"s_1051\"), \"     L-tyrosine  cytoplasm\") \n",
    "print(a.get_metabolite(\"s_cinnamic\"), \"     s_cinnamic\")\n",
    "print(a.get_metabolite(\"s_coumaric\"), \"     s_coumaric\")\n",
    "print(a.get_metabolite(\"s_caffeic\"), \"     s_caffeic\")\n",
    "print(a.get_metabolite(\"s_ferulic\"), \"     s_ferulic\")\n",
    "print(a.get_metabolite(\"s_feruloylCoA\"), \"     s_feruloylCoA\")\n",
    "print(a.get_metabolite(\"s_feruloyl_diketideCoA\"), \"     s_feruloyl_diketideCoA\")\n",
    "print(a.get_metabolite(\"s_curcumin\"), \"     s_curcumin\")\n",
    "print(a.get_metabolite(\"s_0951\"))\n",
    "print(a.get_metabolite(\"s_1377\"), \"PPA\") #PPA\n",
    "print(a.get_metabolite(\"s_0349\"),\"DAHP\") #DAHP   \n",
    "print(a.get_metabolite(\"s_0180\"),\"ARO8\") #ARO8   \n"
   ]
  },
  {
   "attachments": {},
   "cell_type": "markdown",
   "metadata": {},
   "source": [
    "# In this segment, to help visualize the flows for the Lab, Escher was used."
   ]
  },
  {
   "attachments": {},
   "cell_type": "markdown",
   "metadata": {},
   "source": [
    "## Escher"
   ]
  },
  {
   "cell_type": "code",
   "execution_count": 11,
   "metadata": {},
   "outputs": [],
   "source": [
    "import escher\n",
    "from escher import Builder"
   ]
  },
  {
   "cell_type": "code",
   "execution_count": 51,
   "metadata": {},
   "outputs": [],
   "source": [
    "# a.fluxes\n",
    "# fluxes_dict = list(a.fluxes)"
   ]
  },
  {
   "cell_type": "code",
   "execution_count": 12,
   "metadata": {},
   "outputs": [],
   "source": [
    "reaction_data = a.dataframe\n",
    "reaction_data"
   ]
  },
  {
   "cell_type": "code",
   "execution_count": 39,
   "metadata": {},
   "outputs": [
    {
     "data": {
      "application/vnd.jupyter.widget-view+json": {
       "model_id": "d6f9291a73424cb3a4162fb473cf5062",
       "version_major": 2,
       "version_minor": 0
      },
      "text/plain": [
       "Builder(highlight_missing=True, reaction_data=[{'EX_curcumin': 0.9761550840438842, 'curs': 0.9761550840438842,…"
      ]
     },
     "metadata": {},
     "output_type": "display_data"
    }
   ],
   "source": [
    "builder = Builder()\n",
    "\n",
    "# Beauty is the enemy of practicality\n",
    "builder.model= model\n",
    "builder.map_json = \"Final.json\"    #Curcumin Pathways\n",
    "builder.map_json = \"Final_extenso.json\"   # Curcumin Pathways + Tal and Pal branches\n",
    "\n",
    "builder.reaction_data= reaction_data\n",
    "builder.reaction_scale = [\n",
    "    { 'type': 'min', 'color': '#000000', 'size': 12 },\n",
    "    { 'type': 'median', 'color': '#ffffff', 'size': 20 },\n",
    "    { 'type': 'max', 'color': '#ff0000', 'size': 25 }]\n",
    "builder.reaction_scale_preset = 'GaBuRd'\n",
    "builder.highlight_missing = True\n",
    "\n",
    "builder"
   ]
  }
 ],
 "metadata": {
  "kernelspec": {
   "display_name": "mestrado_final",
   "language": "python",
   "name": "python3"
  },
  "language_info": {
   "codemirror_mode": {
    "name": "ipython",
    "version": 3
   },
   "file_extension": ".py",
   "mimetype": "text/x-python",
   "name": "python",
   "nbconvert_exporter": "python",
   "pygments_lexer": "ipython3",
   "version": "3.9.16"
  },
  "orig_nbformat": 4
 },
 "nbformat": 4,
 "nbformat_minor": 2
}
