{
 "cells": [
  {
   "attachments": {},
   "cell_type": "markdown",
   "metadata": {},
   "source": [
    "# Function used to evaluate the frequency of genes in the different relevant solutions obtained."
   ]
  },
  {
   "cell_type": "code",
   "execution_count": 1,
   "metadata": {},
   "outputs": [],
   "source": [
    "import pandas as pd\n",
    "from collections import Counter"
   ]
  },
  {
   "cell_type": "code",
   "execution_count": 5,
   "metadata": {},
   "outputs": [],
   "source": [
    "csv = \"results_05-04-2023__09_23_07_07-04-2023__02_38_42r_1714_(-10.0, 999999.0)_analisados.csv\"\n",
    "idx_ini = 74\n",
    "idx_fim = 99"
   ]
  },
  {
   "cell_type": "code",
   "execution_count": 19,
   "metadata": {},
   "outputs": [],
   "source": [
    "def freq_genes (csv, idx_ini, idx_fim):\n",
    "    \"\"\"Function that allows you to evaluate the frequency of changes from the optimizations\n",
    "\n",
    "    Args:\n",
    "        csv (str): .csv file path\n",
    "        idx_ini (int): inicial index\n",
    "        idx_fim (int): final index\n",
    "    \"\"\"\n",
    "    genes = []\n",
    "    df = pd.read_csv(csv)\n",
    "    data = df.values.tolist()\n",
    "    linhas = data [idx_ini - 2: idx_fim + 1]\n",
    "    genes_list = [c[2][1:-1] for c in linhas]   \n",
    "    genes_list = [c.split(\",\") for c in genes_list]\n",
    "    for c in genes_list:\n",
    "        genes += c\n",
    "    counter = Counter(genes)\n",
    "    genes_order = sorted(counter, key=lambda x: counter[x], reverse=True)\n",
    "    genes_order.insert(8,\"---------------------\")\n",
    "\n",
    "    for element in genes_order:\n",
    "        print(f\"{element} --> {counter[element]} \")"
   ]
  },
  {
   "cell_type": "code",
   "execution_count": 20,
   "metadata": {},
   "outputs": [
    {
     "name": "stdout",
     "output_type": "stream",
     "text": [
      "'YPR060C': 8 --> 26 \n",
      " 'YBR249C': 8 --> 26 \n",
      " 'YDR127W': 8 --> 26 \n",
      " 'YGL148W': 8 --> 26 \n",
      " 'YDR035W': 8 --> 26 \n",
      " 'YBR166C': 8 --> 26 \n",
      " 'YLR134W': 0 --> 26 \n",
      " 'YDR380W': 0 --> 26 \n",
      "--------------------- --> 0 \n",
      " 'YGL125W': 32 --> 26 \n",
      " 'YKL141W': 0 --> 16 \n",
      " 'YOR025W': 0 --> 16 \n",
      " 'YLR081W': 0 --> 15 \n",
      " 'YBR265W': 0.5 --> 15 \n",
      " 'YNR019W': 0 --> 13 \n",
      " 'YJR009C': 0 --> 12 \n",
      " 'YLR231C': 0 --> 10 \n",
      " 'YLR044C': 32 --> 9 \n",
      " 'YER060W-A': 0 --> 7 \n",
      " 'YER023W': 0.5 --> 7 \n",
      " 'YKL085W': 0.0625 --> 4 \n",
      " 'YMR202W': 2 --> 4 \n",
      " 'YKL141W': 0.03125 --> 4 \n",
      " 'YIL125W': 0 --> 4 \n",
      " 'YLR153C': 4 --> 4 \n",
      " 'YNR019W': 32 --> 4 \n",
      " 'YLR044C': 8 --> 4 \n",
      " 'YDR158W': 2 --> 4 \n",
      " 'YKL141W': 0.125 --> 3 \n",
      " 'YAL038W': 2 --> 3 \n",
      " 'YLR044C': 2 --> 3 \n",
      " 'YLR153C': 32 --> 2 \n",
      " 'YOL058W': 4 --> 2 \n",
      " 'YJR009C': 0.03125 --> 2 \n",
      " 'YLR044C': 16 --> 2 \n",
      " 'YNR019W': 2 --> 1 \n",
      " 'YDL093W': 0 --> 1 \n",
      " 'YLR153C': 0.125 --> 1 \n",
      " 'YKL120W': 0.0625 --> 1 \n",
      " 'YEL027W': 0.5 --> 1 \n",
      " 'YGR124W': 8 --> 1 \n",
      " 'YDL090C': 16 --> 1 \n",
      " 'YLR231C': 32 --> 1 \n",
      " 'YKR097W': 0 --> 1 \n"
     ]
    }
   ],
   "source": [
    "freq_genes(csv, idx_ini, idx_fim)"
   ]
  }
 ],
 "metadata": {
  "kernelspec": {
   "display_name": "mestrado_final",
   "language": "python",
   "name": "python3"
  },
  "language_info": {
   "codemirror_mode": {
    "name": "ipython",
    "version": 3
   },
   "file_extension": ".py",
   "mimetype": "text/x-python",
   "name": "python",
   "nbconvert_exporter": "python",
   "pygments_lexer": "ipython3",
   "version": "3.9.16"
  },
  "orig_nbformat": 4
 },
 "nbformat": 4,
 "nbformat_minor": 2
}
